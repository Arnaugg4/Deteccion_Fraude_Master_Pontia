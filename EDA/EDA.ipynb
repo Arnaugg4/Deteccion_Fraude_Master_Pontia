{
 "cells": [
  {
   "cell_type": "markdown",
   "id": "fb947445",
   "metadata": {},
   "source": [
    "# Análisis Exploratorio de datos (EDA)"
   ]
  },
  {
   "cell_type": "code",
   "execution_count": 1,
   "id": "4aff1d6e",
   "metadata": {},
   "outputs": [],
   "source": [
    "import pandas as pd\n",
    "import numpy as np\n",
    "\n",
    "import matplotlib.pyplot as plt\n",
    "import seaborn as sns\n",
    "sns.set_palette(\"viridis\")\n",
    "from datetime import datetime\n",
    "\n",
    "import warnings\n",
    "warnings.filterwarnings(\"ignore\")"
   ]
  },
  {
   "cell_type": "markdown",
   "id": "7cfa7c33",
   "metadata": {},
   "source": [
    "## Cálculo de estadísticos descriptivos"
   ]
  },
  {
   "cell_type": "markdown",
   "id": "82aa3248",
   "metadata": {},
   "source": [
    "Cargamos el DF df_transacciones_EDA.csv"
   ]
  },
  {
   "cell_type": "code",
   "execution_count": 2,
   "id": "f7d3d2cd",
   "metadata": {},
   "outputs": [
    {
     "data": {
      "text/html": [
       "<div>\n",
       "<style scoped>\n",
       "    .dataframe tbody tr th:only-of-type {\n",
       "        vertical-align: middle;\n",
       "    }\n",
       "\n",
       "    .dataframe tbody tr th {\n",
       "        vertical-align: top;\n",
       "    }\n",
       "\n",
       "    .dataframe thead th {\n",
       "        text-align: right;\n",
       "    }\n",
       "</style>\n",
       "<table border=\"1\" class=\"dataframe\">\n",
       "  <thead>\n",
       "    <tr style=\"text-align: right;\">\n",
       "      <th></th>\n",
       "      <th>t_id</th>\n",
       "      <th>tipo</th>\n",
       "      <th>fecha_final</th>\n",
       "      <th>id_cliente_origen</th>\n",
       "      <th>balance_prev_origen</th>\n",
       "      <th>balance_post_origen</th>\n",
       "      <th>id_cliente_destino</th>\n",
       "      <th>balance_prev_destino</th>\n",
       "      <th>balance_post_destino</th>\n",
       "      <th>cuantia</th>\n",
       "      <th>mensaje_alarma</th>\n",
       "      <th>es_fraude</th>\n",
       "    </tr>\n",
       "  </thead>\n",
       "  <tbody>\n",
       "    <tr>\n",
       "      <th>0</th>\n",
       "      <td>0</td>\n",
       "      <td>PAYMENT</td>\n",
       "      <td>2022-09-01 08:00:00</td>\n",
       "      <td>C1231006815</td>\n",
       "      <td>170136.0</td>\n",
       "      <td>160296.36</td>\n",
       "      <td>M1979787155</td>\n",
       "      <td>0.0</td>\n",
       "      <td>0.0</td>\n",
       "      <td>9839.64</td>\n",
       "      <td>False</td>\n",
       "      <td>False</td>\n",
       "    </tr>\n",
       "    <tr>\n",
       "      <th>1</th>\n",
       "      <td>1</td>\n",
       "      <td>PAYMENT</td>\n",
       "      <td>2022-09-01 08:00:00</td>\n",
       "      <td>C1666544295</td>\n",
       "      <td>21249.0</td>\n",
       "      <td>19384.72</td>\n",
       "      <td>M2044282225</td>\n",
       "      <td>0.0</td>\n",
       "      <td>0.0</td>\n",
       "      <td>1864.28</td>\n",
       "      <td>False</td>\n",
       "      <td>False</td>\n",
       "    </tr>\n",
       "    <tr>\n",
       "      <th>2</th>\n",
       "      <td>2</td>\n",
       "      <td>TRANSFER</td>\n",
       "      <td>2022-09-01 08:00:00</td>\n",
       "      <td>C1305486145</td>\n",
       "      <td>181.0</td>\n",
       "      <td>0.00</td>\n",
       "      <td>C553264065</td>\n",
       "      <td>0.0</td>\n",
       "      <td>0.0</td>\n",
       "      <td>181.00</td>\n",
       "      <td>False</td>\n",
       "      <td>True</td>\n",
       "    </tr>\n",
       "    <tr>\n",
       "      <th>3</th>\n",
       "      <td>3</td>\n",
       "      <td>CASH_OUT</td>\n",
       "      <td>2022-09-01 08:00:00</td>\n",
       "      <td>C840083671</td>\n",
       "      <td>181.0</td>\n",
       "      <td>0.00</td>\n",
       "      <td>C38997010</td>\n",
       "      <td>21182.0</td>\n",
       "      <td>0.0</td>\n",
       "      <td>181.00</td>\n",
       "      <td>False</td>\n",
       "      <td>True</td>\n",
       "    </tr>\n",
       "    <tr>\n",
       "      <th>4</th>\n",
       "      <td>4</td>\n",
       "      <td>PAYMENT</td>\n",
       "      <td>2022-09-01 08:00:00</td>\n",
       "      <td>C2048537720</td>\n",
       "      <td>41554.0</td>\n",
       "      <td>29885.86</td>\n",
       "      <td>M1230701703</td>\n",
       "      <td>0.0</td>\n",
       "      <td>0.0</td>\n",
       "      <td>11668.14</td>\n",
       "      <td>False</td>\n",
       "      <td>False</td>\n",
       "    </tr>\n",
       "  </tbody>\n",
       "</table>\n",
       "</div>"
      ],
      "text/plain": [
       "   t_id      tipo          fecha_final id_cliente_origen  balance_prev_origen  \\\n",
       "0     0   PAYMENT  2022-09-01 08:00:00       C1231006815             170136.0   \n",
       "1     1   PAYMENT  2022-09-01 08:00:00       C1666544295              21249.0   \n",
       "2     2  TRANSFER  2022-09-01 08:00:00       C1305486145                181.0   \n",
       "3     3  CASH_OUT  2022-09-01 08:00:00        C840083671                181.0   \n",
       "4     4   PAYMENT  2022-09-01 08:00:00       C2048537720              41554.0   \n",
       "\n",
       "   balance_post_origen id_cliente_destino  balance_prev_destino  \\\n",
       "0            160296.36        M1979787155                   0.0   \n",
       "1             19384.72        M2044282225                   0.0   \n",
       "2                 0.00         C553264065                   0.0   \n",
       "3                 0.00          C38997010               21182.0   \n",
       "4             29885.86        M1230701703                   0.0   \n",
       "\n",
       "   balance_post_destino   cuantia  mensaje_alarma  es_fraude  \n",
       "0                   0.0   9839.64           False      False  \n",
       "1                   0.0   1864.28           False      False  \n",
       "2                   0.0    181.00           False       True  \n",
       "3                   0.0    181.00           False       True  \n",
       "4                   0.0  11668.14           False      False  "
      ]
     },
     "execution_count": 2,
     "metadata": {},
     "output_type": "execute_result"
    }
   ],
   "source": [
    "df = pd.read_csv(\"D:/Documentos/Pontia/Eleccion proyecto Jupiter/df_completo.csv\")\n",
    "df. head()"
   ]
  },
  {
   "cell_type": "code",
   "execution_count": 3,
   "id": "1cf4ece8",
   "metadata": {},
   "outputs": [
    {
     "data": {
      "text/plain": [
       "(6362520, 12)"
      ]
     },
     "execution_count": 3,
     "metadata": {},
     "output_type": "execute_result"
    }
   ],
   "source": [
    "df.shape # Ver la forma del DataFrame"
   ]
  },
  {
   "cell_type": "code",
   "execution_count": 4,
   "id": "3c8fb401",
   "metadata": {},
   "outputs": [
    {
     "name": "stdout",
     "output_type": "stream",
     "text": [
      "<class 'pandas.core.frame.DataFrame'>\n",
      "RangeIndex: 6362520 entries, 0 to 6362519\n",
      "Data columns (total 12 columns):\n",
      " #   Column                Dtype  \n",
      "---  ------                -----  \n",
      " 0   t_id                  int64  \n",
      " 1   tipo                  object \n",
      " 2   fecha_final           object \n",
      " 3   id_cliente_origen     object \n",
      " 4   balance_prev_origen   float64\n",
      " 5   balance_post_origen   float64\n",
      " 6   id_cliente_destino    object \n",
      " 7   balance_prev_destino  float64\n",
      " 8   balance_post_destino  float64\n",
      " 9   cuantia               float64\n",
      " 10  mensaje_alarma        bool   \n",
      " 11  es_fraude             bool   \n",
      "dtypes: bool(2), float64(5), int64(1), object(4)\n",
      "memory usage: 497.6+ MB\n"
     ]
    }
   ],
   "source": [
    "df.info() # Ver información sobre los tipos de datos de cada columna"
   ]
  },
  {
   "cell_type": "code",
   "execution_count": 5,
   "id": "0748173c",
   "metadata": {},
   "outputs": [
    {
     "data": {
      "text/html": [
       "<div>\n",
       "<style scoped>\n",
       "    .dataframe tbody tr th:only-of-type {\n",
       "        vertical-align: middle;\n",
       "    }\n",
       "\n",
       "    .dataframe tbody tr th {\n",
       "        vertical-align: top;\n",
       "    }\n",
       "\n",
       "    .dataframe thead th {\n",
       "        text-align: right;\n",
       "    }\n",
       "</style>\n",
       "<table border=\"1\" class=\"dataframe\">\n",
       "  <thead>\n",
       "    <tr style=\"text-align: right;\">\n",
       "      <th></th>\n",
       "      <th>t_id</th>\n",
       "      <th>balance_prev_origen</th>\n",
       "      <th>balance_post_origen</th>\n",
       "      <th>balance_prev_destino</th>\n",
       "      <th>balance_post_destino</th>\n",
       "      <th>cuantia</th>\n",
       "    </tr>\n",
       "  </thead>\n",
       "  <tbody>\n",
       "    <tr>\n",
       "      <th>count</th>\n",
       "      <td>6.362520e+06</td>\n",
       "      <td>6.362520e+06</td>\n",
       "      <td>6.362520e+06</td>\n",
       "      <td>6.362520e+06</td>\n",
       "      <td>6.362520e+06</td>\n",
       "      <td>6.362520e+06</td>\n",
       "    </tr>\n",
       "    <tr>\n",
       "      <th>mean</th>\n",
       "      <td>3.181312e+06</td>\n",
       "      <td>8.338892e+05</td>\n",
       "      <td>8.551206e+05</td>\n",
       "      <td>1.100707e+06</td>\n",
       "      <td>1.225002e+06</td>\n",
       "      <td>1.798620e+05</td>\n",
       "    </tr>\n",
       "    <tr>\n",
       "      <th>std</th>\n",
       "      <td>1.836730e+06</td>\n",
       "      <td>2.888257e+06</td>\n",
       "      <td>2.924063e+06</td>\n",
       "      <td>3.399201e+06</td>\n",
       "      <td>3.674152e+06</td>\n",
       "      <td>6.038617e+05</td>\n",
       "    </tr>\n",
       "    <tr>\n",
       "      <th>min</th>\n",
       "      <td>0.000000e+00</td>\n",
       "      <td>0.000000e+00</td>\n",
       "      <td>0.000000e+00</td>\n",
       "      <td>0.000000e+00</td>\n",
       "      <td>0.000000e+00</td>\n",
       "      <td>0.000000e+00</td>\n",
       "    </tr>\n",
       "    <tr>\n",
       "      <th>25%</th>\n",
       "      <td>1.590656e+06</td>\n",
       "      <td>0.000000e+00</td>\n",
       "      <td>0.000000e+00</td>\n",
       "      <td>0.000000e+00</td>\n",
       "      <td>0.000000e+00</td>\n",
       "      <td>1.338957e+04</td>\n",
       "    </tr>\n",
       "    <tr>\n",
       "      <th>50%</th>\n",
       "      <td>3.181316e+06</td>\n",
       "      <td>1.420800e+04</td>\n",
       "      <td>0.000000e+00</td>\n",
       "      <td>1.327077e+05</td>\n",
       "      <td>2.146622e+05</td>\n",
       "      <td>7.487271e+04</td>\n",
       "    </tr>\n",
       "    <tr>\n",
       "      <th>75%</th>\n",
       "      <td>4.771964e+06</td>\n",
       "      <td>1.073150e+05</td>\n",
       "      <td>1.442585e+05</td>\n",
       "      <td>9.430375e+05</td>\n",
       "      <td>1.111909e+06</td>\n",
       "      <td>2.087216e+05</td>\n",
       "    </tr>\n",
       "    <tr>\n",
       "      <th>max</th>\n",
       "      <td>6.362619e+06</td>\n",
       "      <td>5.958504e+07</td>\n",
       "      <td>4.958504e+07</td>\n",
       "      <td>3.560159e+08</td>\n",
       "      <td>3.561793e+08</td>\n",
       "      <td>9.244552e+07</td>\n",
       "    </tr>\n",
       "  </tbody>\n",
       "</table>\n",
       "</div>"
      ],
      "text/plain": [
       "               t_id  balance_prev_origen  balance_post_origen  \\\n",
       "count  6.362520e+06         6.362520e+06         6.362520e+06   \n",
       "mean   3.181312e+06         8.338892e+05         8.551206e+05   \n",
       "std    1.836730e+06         2.888257e+06         2.924063e+06   \n",
       "min    0.000000e+00         0.000000e+00         0.000000e+00   \n",
       "25%    1.590656e+06         0.000000e+00         0.000000e+00   \n",
       "50%    3.181316e+06         1.420800e+04         0.000000e+00   \n",
       "75%    4.771964e+06         1.073150e+05         1.442585e+05   \n",
       "max    6.362619e+06         5.958504e+07         4.958504e+07   \n",
       "\n",
       "       balance_prev_destino  balance_post_destino       cuantia  \n",
       "count          6.362520e+06          6.362520e+06  6.362520e+06  \n",
       "mean           1.100707e+06          1.225002e+06  1.798620e+05  \n",
       "std            3.399201e+06          3.674152e+06  6.038617e+05  \n",
       "min            0.000000e+00          0.000000e+00  0.000000e+00  \n",
       "25%            0.000000e+00          0.000000e+00  1.338957e+04  \n",
       "50%            1.327077e+05          2.146622e+05  7.487271e+04  \n",
       "75%            9.430375e+05          1.111909e+06  2.087216e+05  \n",
       "max            3.560159e+08          3.561793e+08  9.244552e+07  "
      ]
     },
     "execution_count": 5,
     "metadata": {},
     "output_type": "execute_result"
    }
   ],
   "source": [
    "df.describe() # Resumen estadístico de las columnas numéricas"
   ]
  },
  {
   "cell_type": "markdown",
   "id": "8ade3caf",
   "metadata": {},
   "source": [
    "## Detección de missing values"
   ]
  },
  {
   "cell_type": "code",
   "execution_count": 6,
   "id": "b5706f78",
   "metadata": {
    "scrolled": true
   },
   "outputs": [
    {
     "name": "stdout",
     "output_type": "stream",
     "text": [
      "t_id                    0\n",
      "tipo                    0\n",
      "fecha_final             0\n",
      "id_cliente_origen       0\n",
      "balance_prev_origen     0\n",
      "balance_post_origen     0\n",
      "id_cliente_destino      0\n",
      "balance_prev_destino    0\n",
      "balance_post_destino    0\n",
      "cuantia                 0\n",
      "mensaje_alarma          0\n",
      "es_fraude               0\n",
      "dtype: int64\n"
     ]
    }
   ],
   "source": [
    "num_missing_values = df.isna().sum()\n",
    "\n",
    "print(num_missing_values)"
   ]
  },
  {
   "cell_type": "markdown",
   "id": "f0044e01",
   "metadata": {},
   "source": [
    "## Cálculo de correlación"
   ]
  },
  {
   "cell_type": "code",
   "execution_count": 7,
   "id": "3e2045cf",
   "metadata": {},
   "outputs": [
    {
     "data": {
      "image/png": "[encoded data removed]",
      "text/plain": [
       "<Figure size 432x288 with 2 Axes>"
      ]
     },
     "metadata": {
      "needs_background": "light"
     },
     "output_type": "display_data"
    }
   ],
   "source": [
    "## Genera un heatmap para ver la correlación entre variables\n",
    "corr = df.corr()\n",
    "sns.heatmap(corr, cmap=\"viridis\", annot=True)\n",
    "plt.show()"
   ]
  },
  {
   "cell_type": "markdown",
   "id": "7b99bd17",
   "metadata": {},
   "source": [
    "## Análisis de Componentes Principales (PCA)"
   ]
  },
  {
   "cell_type": "code",
   "execution_count": 8,
   "id": "107cb9b0",
   "metadata": {},
   "outputs": [],
   "source": [
    "from sklearn.preprocessing import StandardScaler\n",
    "\n",
    "#Este código elimina los valores faltantes, los valores atípicos y los registros duplicados, y \n",
    "#normalizará los datos para asegurarse de que todas las variables tengan la misma escala.\n",
    "\n",
    "datos_sin_faltantes = df.dropna()\n",
    "datos_sin_outliers = datos_sin_faltantes[(datos_sin_faltantes['cuantia'] < 100000) & (datos_sin_faltantes['balance_prev_origen'] < 100000) & (datos_sin_faltantes['balance_post_origen'] < 100000) & (datos_sin_faltantes['balance_prev_destino'] < 100000) & (datos_sin_faltantes['balance_post_destino'] < 100000)]\n",
    "datos_sin_duplicados = datos_sin_outliers.drop_duplicates()\n",
    "\n",
    "columnas_numericas = ['balance_prev_origen', 'balance_post_origen', 'balance_prev_destino', 'balance_post_destino', 'cuantia']\n",
    "datos_normalizados = StandardScaler().fit_transform(datos_sin_duplicados[columnas_numericas])\n"
   ]
  },
  {
   "cell_type": "code",
   "execution_count": 9,
   "id": "8bce1b5f",
   "metadata": {},
   "outputs": [],
   "source": [
    "from sklearn.decomposition import PCA\n",
    "\n",
    "#Este código aplica PCA para reducir el número de variables a dos componentes principales y\n",
    "#creará un nuevo DataFrame llamado \"nuevos_datos\" con los valores de las dos componentes principales.\n",
    "\n",
    "pca = PCA(n_components=2)\n",
    "componentes_principales = pca.fit_transform(datos_normalizados)\n",
    "nuevos_datos = pd.DataFrame(data = componentes_principales, columns = ['PC1', 'PC2'])"
   ]
  },
  {
   "cell_type": "code",
   "execution_count": 10,
   "id": "78e76419",
   "metadata": {},
   "outputs": [
    {
     "data": {
      "image/png": "[encoded data removed]",
      "text/plain": [
       "<Figure size 432x288 with 1 Axes>"
      ]
     },
     "metadata": {
      "needs_background": "light"
     },
     "output_type": "display_data"
    }
   ],
   "source": [
    "#Este código crea un gráfico de dispersión con los valores de las dos componentes principales y\n",
    "#los colores correspondientes a la variable \"es_fraude\", lo que permitirá visualizar los patrones de comportamiento anormal.\n",
    "\n",
    "plt.scatter(nuevos_datos['PC1'], nuevos_datos['PC2'], c=datos_sin_duplicados['es_fraude'])\n",
    "plt.xlabel('Componente Principal 1')\n",
    "plt.ylabel('Componente Principal 2')\n",
    "plt.show()"
   ]
  },
  {
   "cell_type": "markdown",
   "id": "7ee0cc34",
   "metadata": {},
   "source": [
    "## Visualización"
   ]
  },
  {
   "cell_type": "markdown",
   "id": "7cbeb90c",
   "metadata": {},
   "source": [
    "Histogramas"
   ]
  },
  {
   "cell_type": "code",
   "execution_count": 11,
   "id": "ed01eb2b",
   "metadata": {},
   "outputs": [
    {
     "data": {
      "image/png": "[encoded data removed]",
      "text/plain": [
       "<Figure size 432x288 with 1 Axes>"
      ]
     },
     "metadata": {
      "needs_background": "light"
     },
     "output_type": "display_data"
    }
   ],
   "source": [
    "\n",
    "datos_sin_duplicados['balance_prev_origen'].hist(bins=50)\n",
    "plt.title('Distribución del saldo previo del origen')\n",
    "plt.xlabel('Saldo previo del origen')\n",
    "plt.ylabel('Frecuencia')\n",
    "plt.show()"
   ]
  },
  {
   "cell_type": "code",
   "execution_count": 12,
   "id": "9867e0cd",
   "metadata": {},
   "outputs": [
    {
     "data": {
      "image/png": "[encoded data removed]",
      "text/plain": [
       "<Figure size 432x288 with 1 Axes>"
      ]
     },
     "metadata": {
      "needs_background": "light"
     },
     "output_type": "display_data"
    }
   ],
   "source": [
    "datos_sin_duplicados['cuantia'].hist(bins=50)\n",
    "plt.title('Distribución de la cuantía de las transacciones')\n",
    "plt.xlabel('Cuantía')\n",
    "plt.ylabel('Frecuencia')\n",
    "plt.show()"
   ]
  },
  {
   "cell_type": "code",
   "execution_count": 13,
   "id": "f15d9748",
   "metadata": {},
   "outputs": [
    {
     "data": {
      "image/png": "[encoded data removed]",
      "text/plain": [
       "<Figure size 432x288 with 1 Axes>"
      ]
     },
     "metadata": {
      "needs_background": "light"
     },
     "output_type": "display_data"
    }
   ],
   "source": [
    "datos_sin_duplicados['fecha_final'].hist(bins=100)\n",
    "plt.title('Distribución del tiempo entre transacciones')\n",
    "plt.xlabel('Tiempo entre transacciones')\n",
    "plt.ylabel('Frecuencia')\n",
    "plt.show()\n"
   ]
  },
  {
   "cell_type": "markdown",
   "id": "837938bb",
   "metadata": {},
   "source": [
    "Gráficos de caja"
   ]
  },
  {
   "cell_type": "code",
   "execution_count": 14,
   "id": "ed54b217",
   "metadata": {},
   "outputs": [
    {
     "data": {
      "text/html": [
       "<div>\n",
       "<style scoped>\n",
       "    .dataframe tbody tr th:only-of-type {\n",
       "        vertical-align: middle;\n",
       "    }\n",
       "\n",
       "    .dataframe tbody tr th {\n",
       "        vertical-align: top;\n",
       "    }\n",
       "\n",
       "    .dataframe thead th {\n",
       "        text-align: right;\n",
       "    }\n",
       "</style>\n",
       "<table border=\"1\" class=\"dataframe\">\n",
       "  <thead>\n",
       "    <tr style=\"text-align: right;\">\n",
       "      <th></th>\n",
       "      <th>t_id</th>\n",
       "      <th>balance_prev_origen</th>\n",
       "      <th>balance_post_origen</th>\n",
       "      <th>balance_prev_destino</th>\n",
       "      <th>balance_post_destino</th>\n",
       "      <th>cuantia</th>\n",
       "    </tr>\n",
       "  </thead>\n",
       "  <tbody>\n",
       "    <tr>\n",
       "      <th>0</th>\n",
       "      <td>0</td>\n",
       "      <td>170136.0</td>\n",
       "      <td>160296.36</td>\n",
       "      <td>0.0</td>\n",
       "      <td>0.0</td>\n",
       "      <td>9839.64</td>\n",
       "    </tr>\n",
       "    <tr>\n",
       "      <th>1</th>\n",
       "      <td>1</td>\n",
       "      <td>21249.0</td>\n",
       "      <td>19384.72</td>\n",
       "      <td>0.0</td>\n",
       "      <td>0.0</td>\n",
       "      <td>1864.28</td>\n",
       "    </tr>\n",
       "    <tr>\n",
       "      <th>2</th>\n",
       "      <td>2</td>\n",
       "      <td>181.0</td>\n",
       "      <td>0.00</td>\n",
       "      <td>0.0</td>\n",
       "      <td>0.0</td>\n",
       "      <td>181.00</td>\n",
       "    </tr>\n",
       "    <tr>\n",
       "      <th>3</th>\n",
       "      <td>3</td>\n",
       "      <td>181.0</td>\n",
       "      <td>0.00</td>\n",
       "      <td>21182.0</td>\n",
       "      <td>0.0</td>\n",
       "      <td>181.00</td>\n",
       "    </tr>\n",
       "    <tr>\n",
       "      <th>4</th>\n",
       "      <td>4</td>\n",
       "      <td>41554.0</td>\n",
       "      <td>29885.86</td>\n",
       "      <td>0.0</td>\n",
       "      <td>0.0</td>\n",
       "      <td>11668.14</td>\n",
       "    </tr>\n",
       "  </tbody>\n",
       "</table>\n",
       "</div>"
      ],
      "text/plain": [
       "   t_id  balance_prev_origen  balance_post_origen  balance_prev_destino  \\\n",
       "0     0             170136.0            160296.36                   0.0   \n",
       "1     1              21249.0             19384.72                   0.0   \n",
       "2     2                181.0                 0.00                   0.0   \n",
       "3     3                181.0                 0.00               21182.0   \n",
       "4     4              41554.0             29885.86                   0.0   \n",
       "\n",
       "   balance_post_destino   cuantia  \n",
       "0                   0.0   9839.64  \n",
       "1                   0.0   1864.28  \n",
       "2                   0.0    181.00  \n",
       "3                   0.0    181.00  \n",
       "4                   0.0  11668.14  "
      ]
     },
     "execution_count": 14,
     "metadata": {},
     "output_type": "execute_result"
    }
   ],
   "source": [
    "# Seleccionamos las columnas numéricas del conjunto de datos\n",
    "datos_numericos = df.select_dtypes(include=['float64', 'int64'])\n",
    "datos_numericos.head()"
   ]
  },
  {
   "cell_type": "code",
   "execution_count": 15,
   "id": "df44c39b",
   "metadata": {},
   "outputs": [
    {
     "data": {
      "image/png": "[encoded data removed]",
      "text/plain": [
       "<Figure size 432x288 with 1 Axes>"
      ]
     },
     "metadata": {
      "needs_background": "light"
     },
     "output_type": "display_data"
    }
   ],
   "source": [
    "# Seleccionamos las columnas numéricas del conjunto de datos\n",
    "datos_numericos = df.select_dtypes(include=['float64', 'int64'])\n",
    "\n",
    "# Creamos un gráfico de caja para la variable 'balance_prev_origen'\n",
    "sns.boxplot(x=datos_numericos['balance_prev_origen'])\n",
    "plt.title('Gráfico de caja para el saldo previo del origen')\n",
    "plt.show()"
   ]
  },
  {
   "cell_type": "code",
   "execution_count": 16,
   "id": "d653055b",
   "metadata": {},
   "outputs": [
    {
     "data": {
      "image/png": "[encoded data removed]",
      "text/plain": [
       "<Figure size 432x288 with 1 Axes>"
      ]
     },
     "metadata": {
      "needs_background": "light"
     },
     "output_type": "display_data"
    }
   ],
   "source": [
    "# Creamos un gráfico de caja para las variables 'balance_prev_origen' y 'balance_prev_destino'\n",
    "sns.boxplot(data=df[['balance_prev_origen', 'balance_prev_destino']])\n",
    "plt.title('Gráfico de caja para el saldo previo del origen y del destino')\n",
    "plt.show()"
   ]
  },
  {
   "cell_type": "code",
   "execution_count": 17,
   "id": "eb55e4b4",
   "metadata": {},
   "outputs": [
    {
     "data": {
      "image/png": "[encoded data removed]",
      "text/plain": [
       "<Figure size 432x288 with 1 Axes>"
      ]
     },
     "metadata": {
      "needs_background": "light"
     },
     "output_type": "display_data"
    }
   ],
   "source": [
    "## Creamos un gráfico de caja para la variable 'cuantia'\n",
    "sns.boxplot(data=df['cuantia'])\n",
    "plt.title('Gráfico de caja para la cuantia')\n",
    "plt.show()"
   ]
  },
  {
   "cell_type": "code",
   "execution_count": 18,
   "id": "44f10a19",
   "metadata": {},
   "outputs": [
    {
     "data": {
      "image/png": "[encoded data removed]",
      "text/plain": [
       "<Figure size 432x288 with 1 Axes>"
      ]
     },
     "metadata": {
      "needs_background": "light"
     },
     "output_type": "display_data"
    }
   ],
   "source": [
    "# Creamos un gráfico de caja para la variable 'cuantia', agrupando los datos por la variable 'es_fraude'\n",
    "sns.boxplot(x='es_fraude', y='cuantia', data=df)\n",
    "plt.title('Gráfico de caja para la cuantía, agrupada por la variable objetivo')\n",
    "plt.show()"
   ]
  },
  {
   "cell_type": "markdown",
   "id": "9e903668",
   "metadata": {},
   "source": [
    "## Detección de outliers"
   ]
  },
  {
   "cell_type": "code",
   "execution_count": 19,
   "id": "90d0dc4f",
   "metadata": {},
   "outputs": [],
   "source": [
    "from scipy import stats\n",
    "\n",
    "z_scores = stats.zscore(datos_numericos)\n",
    "outliers = datos_numericos[(z_scores > 3).any(axis=1)]"
   ]
  },
  {
   "cell_type": "code",
   "execution_count": 20,
   "id": "aeaf5cf1",
   "metadata": {},
   "outputs": [
    {
     "name": "stdout",
     "output_type": "stream",
     "text": [
      "Columna balance_prev_origen: 1112489 outliers detectados\n",
      "Columna balance_post_origen: 1053378 outliers detectados\n",
      "Columna balance_prev_destino: 786127 outliers detectados\n",
      "Columna balance_post_destino: 738518 outliers detectados\n",
      "Columna cuantia: 338071 outliers detectados\n"
     ]
    }
   ],
   "source": [
    "columnas_numericas = ['balance_prev_origen', 'balance_post_origen', 'balance_prev_destino', 'balance_post_destino', 'cuantia']\n",
    "\n",
    "for columna in columnas_numericas:\n",
    "    Q1 = np.percentile(df[columna], 25)\n",
    "    Q3 = np.percentile(df[columna], 75)\n",
    "    IQR = Q3 - Q1\n",
    "    umbral_superior = Q3 + 1.5*IQR\n",
    "    umbral_inferior = Q1 - 1.5*IQR\n",
    "    outliers = df[(df[columna] > umbral_superior) | (df[columna] < umbral_inferior)]\n",
    "    print('Columna {}: {} outliers detectados'.format(columna, len(outliers)))"
   ]
  },
  {
   "cell_type": "code",
   "execution_count": 21,
   "id": "d37e47eb",
   "metadata": {},
   "outputs": [
    {
     "data": {
      "text/plain": [
       "<AxesSubplot:>"
      ]
     },
     "execution_count": 21,
     "metadata": {},
     "output_type": "execute_result"
    },
    {
     "data": {
      "image/png": "[encoded data removed]",
      "text/plain": [
       "<Figure size 432x288 with 1 Axes>"
      ]
     },
     "metadata": {
      "needs_background": "light"
     },
     "output_type": "display_data"
    }
   ],
   "source": [
    "# Crear un subconjunto de datos con las variables relevantes\n",
    "datos_relevantes = df[['cuantia', 'balance_prev_origen', 'balance_prev_destino']]\n",
    "\n",
    "# Crear un gráfico de IQR para las variables relevantes\n",
    "sns.boxplot(data=datos_relevantes, orient=\"h\", palette=\"Set2\")"
   ]
  },
  {
   "cell_type": "markdown",
   "id": "89c30091",
   "metadata": {},
   "source": [
    "## Análisis de la distribución de los datos"
   ]
  },
  {
   "cell_type": "code",
   "execution_count": 22,
   "id": "eb2d44f1",
   "metadata": {},
   "outputs": [
    {
     "data": {
      "image/png": "[encoded data removed]",
      "text/plain": [
       "<Figure size 432x288 with 1 Axes>"
      ]
     },
     "metadata": {
      "needs_background": "light"
     },
     "output_type": "display_data"
    }
   ],
   "source": [
    "# Convertir la columna de fecha a formato de fecha\n",
    "df['fecha_final'] = pd.to_datetime(df['fecha_final'])\n",
    "\n",
    "# Agrupar las transacciones por mes y contar el número de transacciones en cada grupo\n",
    "transacciones_por_mes = df.groupby(df['fecha_final'].dt.to_period('M')).count()['t_id']\n",
    "\n",
    "# Crear un gráfico de barras para el número de transacciones por mes\n",
    "plt.bar(transacciones_por_mes.index.astype(str), transacciones_por_mes.values)\n",
    "\n",
    "# Agregar etiquetas al gráfico\n",
    "plt.title('Número de transacciones por mes')\n",
    "plt.xlabel('Mes')\n",
    "plt.ylabel('Número de transacciones')\n",
    "\n",
    "# Mostrar el gráfico\n",
    "plt.show()"
   ]
  },
  {
   "cell_type": "code",
   "execution_count": 23,
   "id": "3ac41f86",
   "metadata": {},
   "outputs": [
    {
     "data": {
      "text/html": [
       "<div>\n",
       "<style scoped>\n",
       "    .dataframe tbody tr th:only-of-type {\n",
       "        vertical-align: middle;\n",
       "    }\n",
       "\n",
       "    .dataframe tbody tr th {\n",
       "        vertical-align: top;\n",
       "    }\n",
       "\n",
       "    .dataframe thead th {\n",
       "        text-align: right;\n",
       "    }\n",
       "</style>\n",
       "<table border=\"1\" class=\"dataframe\">\n",
       "  <thead>\n",
       "    <tr style=\"text-align: right;\">\n",
       "      <th></th>\n",
       "      <th>fecha_final</th>\n",
       "      <th>t_id</th>\n",
       "    </tr>\n",
       "  </thead>\n",
       "  <tbody>\n",
       "    <tr>\n",
       "      <th>0</th>\n",
       "      <td>2022-09-01</td>\n",
       "      <td>348184</td>\n",
       "    </tr>\n",
       "    <tr>\n",
       "      <th>1</th>\n",
       "      <td>2022-09-02</td>\n",
       "      <td>474740</td>\n",
       "    </tr>\n",
       "    <tr>\n",
       "      <th>2</th>\n",
       "      <td>2022-09-03</td>\n",
       "      <td>207492</td>\n",
       "    </tr>\n",
       "    <tr>\n",
       "      <th>3</th>\n",
       "      <td>2022-09-04</td>\n",
       "      <td>304</td>\n",
       "    </tr>\n",
       "    <tr>\n",
       "      <th>4</th>\n",
       "      <td>2022-09-05</td>\n",
       "      <td>28911</td>\n",
       "    </tr>\n",
       "    <tr>\n",
       "      <th>5</th>\n",
       "      <td>2022-09-06</td>\n",
       "      <td>263143</td>\n",
       "    </tr>\n",
       "    <tr>\n",
       "      <th>6</th>\n",
       "      <td>2022-09-07</td>\n",
       "      <td>407760</td>\n",
       "    </tr>\n",
       "    <tr>\n",
       "      <th>7</th>\n",
       "      <td>2022-09-08</td>\n",
       "      <td>436243</td>\n",
       "    </tr>\n",
       "    <tr>\n",
       "      <th>8</th>\n",
       "      <td>2022-09-09</td>\n",
       "      <td>458978</td>\n",
       "    </tr>\n",
       "    <tr>\n",
       "      <th>9</th>\n",
       "      <td>2022-09-10</td>\n",
       "      <td>391853</td>\n",
       "    </tr>\n",
       "    <tr>\n",
       "      <th>10</th>\n",
       "      <td>2022-09-11</td>\n",
       "      <td>421758</td>\n",
       "    </tr>\n",
       "    <tr>\n",
       "      <th>11</th>\n",
       "      <td>2022-09-12</td>\n",
       "      <td>353390</td>\n",
       "    </tr>\n",
       "    <tr>\n",
       "      <th>12</th>\n",
       "      <td>2022-09-13</td>\n",
       "      <td>392245</td>\n",
       "    </tr>\n",
       "    <tr>\n",
       "      <th>13</th>\n",
       "      <td>2022-09-14</td>\n",
       "      <td>414559</td>\n",
       "    </tr>\n",
       "    <tr>\n",
       "      <th>14</th>\n",
       "      <td>2022-09-15</td>\n",
       "      <td>398344</td>\n",
       "    </tr>\n",
       "    <tr>\n",
       "      <th>15</th>\n",
       "      <td>2022-09-16</td>\n",
       "      <td>390703</td>\n",
       "    </tr>\n",
       "    <tr>\n",
       "      <th>16</th>\n",
       "      <td>2022-09-17</td>\n",
       "      <td>398329</td>\n",
       "    </tr>\n",
       "    <tr>\n",
       "      <th>17</th>\n",
       "      <td>2022-09-18</td>\n",
       "      <td>209359</td>\n",
       "    </tr>\n",
       "    <tr>\n",
       "      <th>18</th>\n",
       "      <td>2022-09-19</td>\n",
       "      <td>17118</td>\n",
       "    </tr>\n",
       "    <tr>\n",
       "      <th>19</th>\n",
       "      <td>2022-09-20</td>\n",
       "      <td>16601</td>\n",
       "    </tr>\n",
       "    <tr>\n",
       "      <th>20</th>\n",
       "      <td>2022-09-21</td>\n",
       "      <td>25549</td>\n",
       "    </tr>\n",
       "    <tr>\n",
       "      <th>21</th>\n",
       "      <td>2022-09-22</td>\n",
       "      <td>26350</td>\n",
       "    </tr>\n",
       "    <tr>\n",
       "      <th>22</th>\n",
       "      <td>2022-09-23</td>\n",
       "      <td>59282</td>\n",
       "    </tr>\n",
       "    <tr>\n",
       "      <th>23</th>\n",
       "      <td>2022-09-24</td>\n",
       "      <td>45496</td>\n",
       "    </tr>\n",
       "    <tr>\n",
       "      <th>24</th>\n",
       "      <td>2022-09-25</td>\n",
       "      <td>45711</td>\n",
       "    </tr>\n",
       "    <tr>\n",
       "      <th>25</th>\n",
       "      <td>2022-09-26</td>\n",
       "      <td>33795</td>\n",
       "    </tr>\n",
       "    <tr>\n",
       "      <th>26</th>\n",
       "      <td>2022-09-27</td>\n",
       "      <td>11728</td>\n",
       "    </tr>\n",
       "    <tr>\n",
       "      <th>27</th>\n",
       "      <td>2022-09-28</td>\n",
       "      <td>14323</td>\n",
       "    </tr>\n",
       "    <tr>\n",
       "      <th>28</th>\n",
       "      <td>2022-09-29</td>\n",
       "      <td>36519</td>\n",
       "    </tr>\n",
       "    <tr>\n",
       "      <th>29</th>\n",
       "      <td>2022-09-30</td>\n",
       "      <td>29199</td>\n",
       "    </tr>\n",
       "    <tr>\n",
       "      <th>30</th>\n",
       "      <td>2022-10-01</td>\n",
       "      <td>4474</td>\n",
       "    </tr>\n",
       "    <tr>\n",
       "      <th>31</th>\n",
       "      <td>2022-10-02</td>\n",
       "      <td>80</td>\n",
       "    </tr>\n",
       "  </tbody>\n",
       "</table>\n",
       "</div>"
      ],
      "text/plain": [
       "   fecha_final    t_id\n",
       "0   2022-09-01  348184\n",
       "1   2022-09-02  474740\n",
       "2   2022-09-03  207492\n",
       "3   2022-09-04     304\n",
       "4   2022-09-05   28911\n",
       "5   2022-09-06  263143\n",
       "6   2022-09-07  407760\n",
       "7   2022-09-08  436243\n",
       "8   2022-09-09  458978\n",
       "9   2022-09-10  391853\n",
       "10  2022-09-11  421758\n",
       "11  2022-09-12  353390\n",
       "12  2022-09-13  392245\n",
       "13  2022-09-14  414559\n",
       "14  2022-09-15  398344\n",
       "15  2022-09-16  390703\n",
       "16  2022-09-17  398329\n",
       "17  2022-09-18  209359\n",
       "18  2022-09-19   17118\n",
       "19  2022-09-20   16601\n",
       "20  2022-09-21   25549\n",
       "21  2022-09-22   26350\n",
       "22  2022-09-23   59282\n",
       "23  2022-09-24   45496\n",
       "24  2022-09-25   45711\n",
       "25  2022-09-26   33795\n",
       "26  2022-09-27   11728\n",
       "27  2022-09-28   14323\n",
       "28  2022-09-29   36519\n",
       "29  2022-09-30   29199\n",
       "30  2022-10-01    4474\n",
       "31  2022-10-02      80"
      ]
     },
     "execution_count": 23,
     "metadata": {},
     "output_type": "execute_result"
    }
   ],
   "source": [
    "# Agrupar las transacciones por fecha y contar el número de transacciones en cada grupo\n",
    "transacciones_por_dia = df.groupby(df['fecha_final'].dt.date).count()['t_id'].reset_index()\n",
    "\n",
    "transacciones_por_dia"
   ]
  },
  {
   "cell_type": "code",
   "execution_count": 24,
   "id": "330d0109",
   "metadata": {},
   "outputs": [
    {
     "data": {
      "image/png": "[encoded data removed]",
      "text/plain": [
       "<Figure size 432x288 with 1 Axes>"
      ]
     },
     "metadata": {
      "needs_background": "light"
     },
     "output_type": "display_data"
    }
   ],
   "source": [
    "# Crear una columna de día\n",
    "df['dia'] = df['fecha_final'].dt.day\n",
    "\n",
    "# Contar el número de transacciones por día\n",
    "transacciones_por_dia = df.groupby('dia').size().reset_index(name='total_transacciones')\n",
    "\n",
    "# Crear una lista de fechas\n",
    "fechas = [df[df['dia'] == dia]['fecha_final'].iloc[0].strftime('%Y-%m-%d') for dia in transacciones_por_dia['dia']]\n",
    "\n",
    "# Crear el gráfico de barras\n",
    "plt.bar(transacciones_por_dia['dia'], transacciones_por_dia['total_transacciones'])\n",
    "plt.xticks(transacciones_por_dia['dia'], fechas, rotation=90, ha='right')\n",
    "plt.xlabel('Fecha')\n",
    "plt.ylabel('Número de transacciones')\n",
    "plt.title('Transacciones totales durante el mes')\n",
    "plt.show()"
   ]
  },
  {
   "cell_type": "markdown",
   "id": "4bf6b157",
   "metadata": {},
   "source": [
    "Los resultados dicen que el dia 4 de Setiembre no hubo apenas transacciones. También cabe recalcar que a partir del día 18 el número de transacciones realizadas baja mucho."
   ]
  },
  {
   "cell_type": "code",
   "execution_count": 26,
   "id": "a851bf28",
   "metadata": {},
   "outputs": [
    {
     "data": {
      "image/png": "[encoded data removed]",
      "text/plain": [
       "<Figure size 720x576 with 1 Axes>"
      ]
     },
     "metadata": {},
     "output_type": "display_data"
    }
   ],
   "source": [
    "plt.figure(figsize=(10,8))\n",
    "plt.pie(df.tipo.value_counts().values,labels=df.tipo.value_counts().index,  autopct='%.0f%%')\n",
    "plt.title(\"Tipo de Transacción\")\n",
    "plt.show()"
   ]
  },
  {
   "cell_type": "code",
   "execution_count": 27,
   "id": "b2bbeb31",
   "metadata": {},
   "outputs": [
    {
     "name": "stdout",
     "output_type": "stream",
     "text": [
      "CASH_OUT    2237463\n",
      "PAYMENT     2151458\n",
      "CASH_IN     1399270\n",
      "TRANSFER     532897\n",
      "DEBIT         41432\n",
      "Name: tipo, dtype: int64\n"
     ]
    },
    {
     "data": {
      "image/png": "[encoded data removed]",
      "text/plain": [
       "<Figure size 576x576 with 1 Axes>"
      ]
     },
     "metadata": {
      "needs_background": "light"
     },
     "output_type": "display_data"
    }
   ],
   "source": [
    "print(df.tipo.value_counts())\n",
    "\n",
    "f, ax = plt.subplots(1, 1, figsize=(8, 8))\n",
    "df.tipo.value_counts().plot(kind='bar', title=\"Tipo de Transacción\", ax=ax, figsize=(8,8))\n",
    "plt.show()"
   ]
  },
  {
   "cell_type": "code",
   "execution_count": 28,
   "id": "50b48464",
   "metadata": {},
   "outputs": [
    {
     "data": {
      "text/plain": [
       "Text(0, 0.5, 'Numero de transacciones')"
      ]
     },
     "execution_count": 28,
     "metadata": {},
     "output_type": "execute_result"
    },
    {
     "data": {
      "image/png": "[encoded data removed]",
      "text/plain": [
       "<Figure size 432x288 with 1 Axes>"
      ]
     },
     "metadata": {
      "needs_background": "light"
     },
     "output_type": "display_data"
    }
   ],
   "source": [
    "ax = df.groupby(['tipo', 'es_fraude']).size().plot(kind='bar')\n",
    "ax.set_title(\"Fraude por tipo de transaccion \")\n",
    "ax.set_xlabel(\"(Tipo, Es fraude)\")\n",
    "ax.set_ylabel(\"Numero de transacciones\")"
   ]
  },
  {
   "cell_type": "markdown",
   "id": "90cbbbb7",
   "metadata": {},
   "source": [
    "Con este resultado podemos concluir que las transaccionnes de tipo \"CASH OUT\" y \"TRANSFER\" son las que se han detectado como transacciones fraudulentas."
   ]
  },
  {
   "cell_type": "code",
   "execution_count": 29,
   "id": "602ff502",
   "metadata": {},
   "outputs": [],
   "source": [
    "df_fraude= df[df['es_fraude']]\n"
   ]
  },
  {
   "cell_type": "code",
   "execution_count": 30,
   "id": "09540608",
   "metadata": {},
   "outputs": [
    {
     "data": {
      "text/plain": [
       "CASH_OUT    4114\n",
       "TRANSFER    4095\n",
       "Name: tipo, dtype: int64"
      ]
     },
     "execution_count": 30,
     "metadata": {},
     "output_type": "execute_result"
    }
   ],
   "source": [
    "df_fraude['tipo'].value_counts()"
   ]
  },
  {
   "cell_type": "code",
   "execution_count": 31,
   "id": "9bc32e7b",
   "metadata": {},
   "outputs": [
    {
     "name": "stdout",
     "output_type": "stream",
     "text": [
      "Cantidad de fraudes:  8209\n"
     ]
    }
   ],
   "source": [
    "print('Cantidad de fraudes: ',df_fraude.shape[0])"
   ]
  },
  {
   "cell_type": "code",
   "execution_count": 32,
   "id": "d91d2107",
   "metadata": {},
   "outputs": [
    {
     "data": {
      "text/plain": [
       "CASH_OUT    0.501157\n",
       "TRANSFER    0.498843\n",
       "Name: tipo, dtype: float64"
      ]
     },
     "execution_count": 32,
     "metadata": {},
     "output_type": "execute_result"
    }
   ],
   "source": [
    "df_fraude['tipo'].value_counts(normalize=True)"
   ]
  },
  {
   "cell_type": "code",
   "execution_count": 33,
   "id": "da830c6c",
   "metadata": {},
   "outputs": [
    {
     "data": {
      "text/plain": [
       "False    8193\n",
       "True       16\n",
       "Name: mensaje_alarma, dtype: int64"
      ]
     },
     "execution_count": 33,
     "metadata": {},
     "output_type": "execute_result"
    }
   ],
   "source": [
    "df_fraude[\"mensaje_alarma\"].value_counts()"
   ]
  },
  {
   "cell_type": "markdown",
   "id": "b27ce00f",
   "metadata": {},
   "source": [
    "El sistema únicamente activó la alarma en 16 transacciones."
   ]
  },
  {
   "cell_type": "code",
   "execution_count": 34,
   "id": "e9c594c7",
   "metadata": {},
   "outputs": [
    {
     "data": {
      "text/html": [
       "<div>\n",
       "<style scoped>\n",
       "    .dataframe tbody tr th:only-of-type {\n",
       "        vertical-align: middle;\n",
       "    }\n",
       "\n",
       "    .dataframe tbody tr th {\n",
       "        vertical-align: top;\n",
       "    }\n",
       "\n",
       "    .dataframe thead th {\n",
       "        text-align: right;\n",
       "    }\n",
       "</style>\n",
       "<table border=\"1\" class=\"dataframe\">\n",
       "  <thead>\n",
       "    <tr style=\"text-align: right;\">\n",
       "      <th></th>\n",
       "      <th>t_id</th>\n",
       "      <th>tipo</th>\n",
       "      <th>fecha_final</th>\n",
       "      <th>id_cliente_origen</th>\n",
       "      <th>balance_prev_origen</th>\n",
       "      <th>balance_post_origen</th>\n",
       "      <th>id_cliente_destino</th>\n",
       "      <th>balance_prev_destino</th>\n",
       "      <th>balance_post_destino</th>\n",
       "      <th>cuantia</th>\n",
       "      <th>mensaje_alarma</th>\n",
       "      <th>es_fraude</th>\n",
       "      <th>dia</th>\n",
       "    </tr>\n",
       "  </thead>\n",
       "  <tbody>\n",
       "    <tr>\n",
       "      <th>2741405</th>\n",
       "      <td>2736446</td>\n",
       "      <td>TRANSFER</td>\n",
       "      <td>2022-09-10 03:00:00</td>\n",
       "      <td>C728984460</td>\n",
       "      <td>4953893.08</td>\n",
       "      <td>4953893.08</td>\n",
       "      <td>C639921569</td>\n",
       "      <td>0.0</td>\n",
       "      <td>0.0</td>\n",
       "      <td>4953893.08</td>\n",
       "      <td>True</td>\n",
       "      <td>True</td>\n",
       "      <td>10</td>\n",
       "    </tr>\n",
       "    <tr>\n",
       "      <th>3252307</th>\n",
       "      <td>3247297</td>\n",
       "      <td>TRANSFER</td>\n",
       "      <td>2022-09-11 17:00:00</td>\n",
       "      <td>C1100582606</td>\n",
       "      <td>1343002.08</td>\n",
       "      <td>1343002.08</td>\n",
       "      <td>C1147517658</td>\n",
       "      <td>0.0</td>\n",
       "      <td>0.0</td>\n",
       "      <td>1343002.08</td>\n",
       "      <td>True</td>\n",
       "      <td>True</td>\n",
       "      <td>11</td>\n",
       "    </tr>\n",
       "    <tr>\n",
       "      <th>3765113</th>\n",
       "      <td>3760288</td>\n",
       "      <td>TRANSFER</td>\n",
       "      <td>2022-09-12 22:00:00</td>\n",
       "      <td>C1035541766</td>\n",
       "      <td>536624.41</td>\n",
       "      <td>536624.41</td>\n",
       "      <td>C1100697970</td>\n",
       "      <td>0.0</td>\n",
       "      <td>0.0</td>\n",
       "      <td>536624.41</td>\n",
       "      <td>True</td>\n",
       "      <td>True</td>\n",
       "      <td>12</td>\n",
       "    </tr>\n",
       "    <tr>\n",
       "      <th>5565791</th>\n",
       "      <td>5563713</td>\n",
       "      <td>TRANSFER</td>\n",
       "      <td>2022-09-17 10:00:00</td>\n",
       "      <td>C908544136</td>\n",
       "      <td>4892193.09</td>\n",
       "      <td>4892193.09</td>\n",
       "      <td>C891140444</td>\n",
       "      <td>0.0</td>\n",
       "      <td>0.0</td>\n",
       "      <td>4892193.09</td>\n",
       "      <td>True</td>\n",
       "      <td>True</td>\n",
       "      <td>17</td>\n",
       "    </tr>\n",
       "    <tr>\n",
       "      <th>5997368</th>\n",
       "      <td>5996407</td>\n",
       "      <td>TRANSFER</td>\n",
       "      <td>2022-09-19 00:00:00</td>\n",
       "      <td>C689608084</td>\n",
       "      <td>19585040.37</td>\n",
       "      <td>19585040.37</td>\n",
       "      <td>C1392803603</td>\n",
       "      <td>0.0</td>\n",
       "      <td>0.0</td>\n",
       "      <td>10000000.00</td>\n",
       "      <td>True</td>\n",
       "      <td>True</td>\n",
       "      <td>19</td>\n",
       "    </tr>\n",
       "    <tr>\n",
       "      <th>5997370</th>\n",
       "      <td>5996409</td>\n",
       "      <td>TRANSFER</td>\n",
       "      <td>2022-09-19 00:00:00</td>\n",
       "      <td>C452586515</td>\n",
       "      <td>19585040.37</td>\n",
       "      <td>19585040.37</td>\n",
       "      <td>C1109166882</td>\n",
       "      <td>0.0</td>\n",
       "      <td>0.0</td>\n",
       "      <td>9585040.37</td>\n",
       "      <td>True</td>\n",
       "      <td>True</td>\n",
       "      <td>19</td>\n",
       "    </tr>\n",
       "    <tr>\n",
       "      <th>6168988</th>\n",
       "      <td>6168499</td>\n",
       "      <td>TRANSFER</td>\n",
       "      <td>2022-09-24 09:00:00</td>\n",
       "      <td>C193696150</td>\n",
       "      <td>3576297.10</td>\n",
       "      <td>3576297.10</td>\n",
       "      <td>C484597480</td>\n",
       "      <td>0.0</td>\n",
       "      <td>0.0</td>\n",
       "      <td>3576297.10</td>\n",
       "      <td>True</td>\n",
       "      <td>True</td>\n",
       "      <td>24</td>\n",
       "    </tr>\n",
       "    <tr>\n",
       "      <th>6205812</th>\n",
       "      <td>6205439</td>\n",
       "      <td>TRANSFER</td>\n",
       "      <td>2022-09-25 17:00:00</td>\n",
       "      <td>C1684585475</td>\n",
       "      <td>353874.22</td>\n",
       "      <td>353874.22</td>\n",
       "      <td>C1770418982</td>\n",
       "      <td>0.0</td>\n",
       "      <td>0.0</td>\n",
       "      <td>353874.22</td>\n",
       "      <td>True</td>\n",
       "      <td>True</td>\n",
       "      <td>25</td>\n",
       "    </tr>\n",
       "    <tr>\n",
       "      <th>6266574</th>\n",
       "      <td>6266413</td>\n",
       "      <td>TRANSFER</td>\n",
       "      <td>2022-09-27 00:00:00</td>\n",
       "      <td>C786455622</td>\n",
       "      <td>2542664.27</td>\n",
       "      <td>2542664.27</td>\n",
       "      <td>C661958277</td>\n",
       "      <td>0.0</td>\n",
       "      <td>0.0</td>\n",
       "      <td>2542664.27</td>\n",
       "      <td>True</td>\n",
       "      <td>True</td>\n",
       "      <td>27</td>\n",
       "    </tr>\n",
       "    <tr>\n",
       "      <th>6281597</th>\n",
       "      <td>6281482</td>\n",
       "      <td>TRANSFER</td>\n",
       "      <td>2022-09-28 05:00:00</td>\n",
       "      <td>C19004745</td>\n",
       "      <td>10399045.08</td>\n",
       "      <td>10399045.08</td>\n",
       "      <td>C1806199534</td>\n",
       "      <td>0.0</td>\n",
       "      <td>0.0</td>\n",
       "      <td>10000000.00</td>\n",
       "      <td>True</td>\n",
       "      <td>True</td>\n",
       "      <td>28</td>\n",
       "    </tr>\n",
       "    <tr>\n",
       "      <th>6281599</th>\n",
       "      <td>6281484</td>\n",
       "      <td>TRANSFER</td>\n",
       "      <td>2022-09-28 05:00:00</td>\n",
       "      <td>C724693370</td>\n",
       "      <td>10399045.08</td>\n",
       "      <td>10399045.08</td>\n",
       "      <td>C1909486199</td>\n",
       "      <td>0.0</td>\n",
       "      <td>0.0</td>\n",
       "      <td>399045.08</td>\n",
       "      <td>True</td>\n",
       "      <td>True</td>\n",
       "      <td>28</td>\n",
       "    </tr>\n",
       "    <tr>\n",
       "      <th>6296096</th>\n",
       "      <td>6296014</td>\n",
       "      <td>TRANSFER</td>\n",
       "      <td>2022-09-29 06:00:00</td>\n",
       "      <td>C917414431</td>\n",
       "      <td>3441041.46</td>\n",
       "      <td>3441041.46</td>\n",
       "      <td>C1082139865</td>\n",
       "      <td>0.0</td>\n",
       "      <td>0.0</td>\n",
       "      <td>3441041.46</td>\n",
       "      <td>True</td>\n",
       "      <td>True</td>\n",
       "      <td>29</td>\n",
       "    </tr>\n",
       "    <tr>\n",
       "      <th>6351154</th>\n",
       "      <td>6351225</td>\n",
       "      <td>TRANSFER</td>\n",
       "      <td>2022-09-30 13:00:00</td>\n",
       "      <td>C1892216157</td>\n",
       "      <td>3171085.59</td>\n",
       "      <td>3171085.59</td>\n",
       "      <td>C1308068787</td>\n",
       "      <td>0.0</td>\n",
       "      <td>0.0</td>\n",
       "      <td>3171085.59</td>\n",
       "      <td>True</td>\n",
       "      <td>True</td>\n",
       "      <td>30</td>\n",
       "    </tr>\n",
       "    <tr>\n",
       "      <th>6362360</th>\n",
       "      <td>6362460</td>\n",
       "      <td>TRANSFER</td>\n",
       "      <td>2022-10-01 17:00:00</td>\n",
       "      <td>C2140038573</td>\n",
       "      <td>17316255.05</td>\n",
       "      <td>17316255.05</td>\n",
       "      <td>C1395467927</td>\n",
       "      <td>0.0</td>\n",
       "      <td>0.0</td>\n",
       "      <td>10000000.00</td>\n",
       "      <td>True</td>\n",
       "      <td>True</td>\n",
       "      <td>1</td>\n",
       "    </tr>\n",
       "    <tr>\n",
       "      <th>6362362</th>\n",
       "      <td>6362462</td>\n",
       "      <td>TRANSFER</td>\n",
       "      <td>2022-10-01 17:00:00</td>\n",
       "      <td>C1869569059</td>\n",
       "      <td>17316255.05</td>\n",
       "      <td>17316255.05</td>\n",
       "      <td>C1861208726</td>\n",
       "      <td>0.0</td>\n",
       "      <td>0.0</td>\n",
       "      <td>7316255.05</td>\n",
       "      <td>True</td>\n",
       "      <td>True</td>\n",
       "      <td>1</td>\n",
       "    </tr>\n",
       "    <tr>\n",
       "      <th>6362484</th>\n",
       "      <td>6362584</td>\n",
       "      <td>TRANSFER</td>\n",
       "      <td>2022-10-02 04:00:00</td>\n",
       "      <td>C992223106</td>\n",
       "      <td>5674547.89</td>\n",
       "      <td>5674547.89</td>\n",
       "      <td>C1366804249</td>\n",
       "      <td>0.0</td>\n",
       "      <td>0.0</td>\n",
       "      <td>5674547.89</td>\n",
       "      <td>True</td>\n",
       "      <td>True</td>\n",
       "      <td>2</td>\n",
       "    </tr>\n",
       "  </tbody>\n",
       "</table>\n",
       "</div>"
      ],
      "text/plain": [
       "            t_id      tipo         fecha_final id_cliente_origen  \\\n",
       "2741405  2736446  TRANSFER 2022-09-10 03:00:00        C728984460   \n",
       "3252307  3247297  TRANSFER 2022-09-11 17:00:00       C1100582606   \n",
       "3765113  3760288  TRANSFER 2022-09-12 22:00:00       C1035541766   \n",
       "5565791  5563713  TRANSFER 2022-09-17 10:00:00        C908544136   \n",
       "5997368  5996407  TRANSFER 2022-09-19 00:00:00        C689608084   \n",
       "5997370  5996409  TRANSFER 2022-09-19 00:00:00        C452586515   \n",
       "6168988  6168499  TRANSFER 2022-09-24 09:00:00        C193696150   \n",
       "6205812  6205439  TRANSFER 2022-09-25 17:00:00       C1684585475   \n",
       "6266574  6266413  TRANSFER 2022-09-27 00:00:00        C786455622   \n",
       "6281597  6281482  TRANSFER 2022-09-28 05:00:00         C19004745   \n",
       "6281599  6281484  TRANSFER 2022-09-28 05:00:00        C724693370   \n",
       "6296096  6296014  TRANSFER 2022-09-29 06:00:00        C917414431   \n",
       "6351154  6351225  TRANSFER 2022-09-30 13:00:00       C1892216157   \n",
       "6362360  6362460  TRANSFER 2022-10-01 17:00:00       C2140038573   \n",
       "6362362  6362462  TRANSFER 2022-10-01 17:00:00       C1869569059   \n",
       "6362484  6362584  TRANSFER 2022-10-02 04:00:00        C992223106   \n",
       "\n",
       "         balance_prev_origen  balance_post_origen id_cliente_destino  \\\n",
       "2741405           4953893.08           4953893.08         C639921569   \n",
       "3252307           1343002.08           1343002.08        C1147517658   \n",
       "3765113            536624.41            536624.41        C1100697970   \n",
       "5565791           4892193.09           4892193.09         C891140444   \n",
       "5997368          19585040.37          19585040.37        C1392803603   \n",
       "5997370          19585040.37          19585040.37        C1109166882   \n",
       "6168988           3576297.10           3576297.10         C484597480   \n",
       "6205812            353874.22            353874.22        C1770418982   \n",
       "6266574           2542664.27           2542664.27         C661958277   \n",
       "6281597          10399045.08          10399045.08        C1806199534   \n",
       "6281599          10399045.08          10399045.08        C1909486199   \n",
       "6296096           3441041.46           3441041.46        C1082139865   \n",
       "6351154           3171085.59           3171085.59        C1308068787   \n",
       "6362360          17316255.05          17316255.05        C1395467927   \n",
       "6362362          17316255.05          17316255.05        C1861208726   \n",
       "6362484           5674547.89           5674547.89        C1366804249   \n",
       "\n",
       "         balance_prev_destino  balance_post_destino      cuantia  \\\n",
       "2741405                   0.0                   0.0   4953893.08   \n",
       "3252307                   0.0                   0.0   1343002.08   \n",
       "3765113                   0.0                   0.0    536624.41   \n",
       "5565791                   0.0                   0.0   4892193.09   \n",
       "5997368                   0.0                   0.0  10000000.00   \n",
       "5997370                   0.0                   0.0   9585040.37   \n",
       "6168988                   0.0                   0.0   3576297.10   \n",
       "6205812                   0.0                   0.0    353874.22   \n",
       "6266574                   0.0                   0.0   2542664.27   \n",
       "6281597                   0.0                   0.0  10000000.00   \n",
       "6281599                   0.0                   0.0    399045.08   \n",
       "6296096                   0.0                   0.0   3441041.46   \n",
       "6351154                   0.0                   0.0   3171085.59   \n",
       "6362360                   0.0                   0.0  10000000.00   \n",
       "6362362                   0.0                   0.0   7316255.05   \n",
       "6362484                   0.0                   0.0   5674547.89   \n",
       "\n",
       "         mensaje_alarma  es_fraude  dia  \n",
       "2741405            True       True   10  \n",
       "3252307            True       True   11  \n",
       "3765113            True       True   12  \n",
       "5565791            True       True   17  \n",
       "5997368            True       True   19  \n",
       "5997370            True       True   19  \n",
       "6168988            True       True   24  \n",
       "6205812            True       True   25  \n",
       "6266574            True       True   27  \n",
       "6281597            True       True   28  \n",
       "6281599            True       True   28  \n",
       "6296096            True       True   29  \n",
       "6351154            True       True   30  \n",
       "6362360            True       True    1  \n",
       "6362362            True       True    1  \n",
       "6362484            True       True    2  "
      ]
     },
     "execution_count": 34,
     "metadata": {},
     "output_type": "execute_result"
    }
   ],
   "source": [
    "df_fraude[df_fraude['mensaje_alarma']]"
   ]
  },
  {
   "cell_type": "code",
   "execution_count": 35,
   "id": "28439378",
   "metadata": {},
   "outputs": [
    {
     "data": {
      "text/html": [
       "<div>\n",
       "<style scoped>\n",
       "    .dataframe tbody tr th:only-of-type {\n",
       "        vertical-align: middle;\n",
       "    }\n",
       "\n",
       "    .dataframe tbody tr th {\n",
       "        vertical-align: top;\n",
       "    }\n",
       "\n",
       "    .dataframe thead th {\n",
       "        text-align: right;\n",
       "    }\n",
       "</style>\n",
       "<table border=\"1\" class=\"dataframe\">\n",
       "  <thead>\n",
       "    <tr style=\"text-align: right;\">\n",
       "      <th></th>\n",
       "      <th>count</th>\n",
       "      <th>unique</th>\n",
       "      <th>top</th>\n",
       "      <th>freq</th>\n",
       "    </tr>\n",
       "  </thead>\n",
       "  <tbody>\n",
       "    <tr>\n",
       "      <th>tipo</th>\n",
       "      <td>8209</td>\n",
       "      <td>2</td>\n",
       "      <td>CASH_OUT</td>\n",
       "      <td>4114</td>\n",
       "    </tr>\n",
       "    <tr>\n",
       "      <th>id_cliente_origen</th>\n",
       "      <td>8209</td>\n",
       "      <td>8209</td>\n",
       "      <td>C1305486145</td>\n",
       "      <td>1</td>\n",
       "    </tr>\n",
       "    <tr>\n",
       "      <th>id_cliente_destino</th>\n",
       "      <td>8209</td>\n",
       "      <td>8165</td>\n",
       "      <td>C1827800010</td>\n",
       "      <td>2</td>\n",
       "    </tr>\n",
       "  </tbody>\n",
       "</table>\n",
       "</div>"
      ],
      "text/plain": [
       "                   count unique          top  freq\n",
       "tipo                8209      2     CASH_OUT  4114\n",
       "id_cliente_origen   8209   8209  C1305486145     1\n",
       "id_cliente_destino  8209   8165  C1827800010     2"
      ]
     },
     "execution_count": 35,
     "metadata": {},
     "output_type": "execute_result"
    }
   ],
   "source": [
    "df_fraude.describe(include='object').T"
   ]
  },
  {
   "cell_type": "markdown",
   "id": "36896108",
   "metadata": {},
   "source": [
    "Del nuevo dataset encontramos que el id_cliente C1827800010 aparece 2 veces como destino de transacciones."
   ]
  },
  {
   "cell_type": "markdown",
   "id": "198ed878",
   "metadata": {},
   "source": [
    "## Análisis de la asimetría"
   ]
  },
  {
   "cell_type": "markdown",
   "id": "35bbcb10",
   "metadata": {},
   "source": [
    "### Skewness"
   ]
  },
  {
   "cell_type": "markdown",
   "id": "cf3d7bc4",
   "metadata": {},
   "source": [
    "Skewness es una medida de simetría, o más precisamente, la falta de simetría.   \n",
    "Una distribución, o conjunto de datos, es simétrico si se ve igual a la izquierda y a la derecha del punto central.\n"
   ]
  },
  {
   "cell_type": "markdown",
   "id": "014b643d",
   "metadata": {},
   "source": [
    "Una asimetría igual a cero indica que la distribución es simétrica. Un valor positivo indica que la distribución tiene una cola positiva o está sesgada hacia la derecha, mientras que un valor negativo indica que la distribución tiene una cola negativa o está sesgada hacia la izquierda. En general, se considera que una distribución es simétrica si su asimetría está entre -0.5 y 0.5, moderadamente sesgada si su asimetría está entre -1 y -0.5 o entre 0.5 y 1, y muy sesgada si su asimetría es menor que -1 o mayor que 1."
   ]
  },
  {
   "cell_type": "code",
   "execution_count": 36,
   "id": "2197c984",
   "metadata": {},
   "outputs": [
    {
     "data": {
      "text/html": [
       "<div>\n",
       "<style scoped>\n",
       "    .dataframe tbody tr th:only-of-type {\n",
       "        vertical-align: middle;\n",
       "    }\n",
       "\n",
       "    .dataframe tbody tr th {\n",
       "        vertical-align: top;\n",
       "    }\n",
       "\n",
       "    .dataframe thead th {\n",
       "        text-align: right;\n",
       "    }\n",
       "</style>\n",
       "<table border=\"1\" class=\"dataframe\">\n",
       "  <thead>\n",
       "    <tr style=\"text-align: right;\">\n",
       "      <th></th>\n",
       "      <th>skewness</th>\n",
       "    </tr>\n",
       "  </thead>\n",
       "  <tbody>\n",
       "    <tr>\n",
       "      <th>mensaje_alarma</th>\n",
       "      <td>630.598674</td>\n",
       "    </tr>\n",
       "    <tr>\n",
       "      <th>cuantia</th>\n",
       "      <td>30.993892</td>\n",
       "    </tr>\n",
       "    <tr>\n",
       "      <th>es_fraude</th>\n",
       "      <td>27.786112</td>\n",
       "    </tr>\n",
       "    <tr>\n",
       "      <th>balance_prev_destino</th>\n",
       "      <td>19.921694</td>\n",
       "    </tr>\n",
       "    <tr>\n",
       "      <th>balance_post_destino</th>\n",
       "      <td>19.352233</td>\n",
       "    </tr>\n",
       "    <tr>\n",
       "      <th>balance_prev_origen</th>\n",
       "      <td>5.249115</td>\n",
       "    </tr>\n",
       "    <tr>\n",
       "      <th>balance_post_origen</th>\n",
       "      <td>5.176862</td>\n",
       "    </tr>\n",
       "    <tr>\n",
       "      <th>dia</th>\n",
       "      <td>0.351518</td>\n",
       "    </tr>\n",
       "    <tr>\n",
       "      <th>t_id</th>\n",
       "      <td>-0.000002</td>\n",
       "    </tr>\n",
       "  </tbody>\n",
       "</table>\n",
       "</div>"
      ],
      "text/plain": [
       "                        skewness\n",
       "mensaje_alarma        630.598674\n",
       "cuantia                30.993892\n",
       "es_fraude              27.786112\n",
       "balance_prev_destino   19.921694\n",
       "balance_post_destino   19.352233\n",
       "balance_prev_origen     5.249115\n",
       "balance_post_origen     5.176862\n",
       "dia                     0.351518\n",
       "t_id                   -0.000002"
      ]
     },
     "execution_count": 36,
     "metadata": {},
     "output_type": "execute_result"
    }
   ],
   "source": [
    "from scipy.stats import skew\n",
    "\n",
    "skewness =df.skew().sort_values(ascending =False)\n",
    "skewness_df= pd.DataFrame({'skewness':skewness}) #Agregamos este paso para darle formato de DataFrame al resultado\n",
    "skewness_df"
   ]
  },
  {
   "cell_type": "markdown",
   "id": "9d343526",
   "metadata": {},
   "source": [
    "## Análisis de curtosis"
   ]
  },
  {
   "cell_type": "markdown",
   "id": "586389a8",
   "metadata": {},
   "source": [
    "La curtosis es una medida estadística que determina el grado de concentración que presentan los valores de una variable alrededor de la zona central de la distribución de frecuencias. También es conocida como medida de apuntamiento.\n",
    "\n",
    "\n",
    "Interpretación de la Curtosis:\n",
    "\n",
    "g2-3 > 0 -> distribución leptocúrtica.\n",
    "\n",
    "g2-3 = 0 -> distribución mesocúrtica (o normal).\n",
    "\n",
    "g2-3 < 0 -> distribución platicúrtica."
   ]
  },
  {
   "cell_type": "code",
   "execution_count": 37,
   "id": "ccfaa136",
   "metadata": {},
   "outputs": [
    {
     "data": {
      "text/html": [
       "<div>\n",
       "<style scoped>\n",
       "    .dataframe tbody tr th:only-of-type {\n",
       "        vertical-align: middle;\n",
       "    }\n",
       "\n",
       "    .dataframe tbody tr th {\n",
       "        vertical-align: top;\n",
       "    }\n",
       "\n",
       "    .dataframe thead th {\n",
       "        text-align: right;\n",
       "    }\n",
       "</style>\n",
       "<table border=\"1\" class=\"dataframe\">\n",
       "  <thead>\n",
       "    <tr style=\"text-align: right;\">\n",
       "      <th></th>\n",
       "      <th>kurtoisis</th>\n",
       "    </tr>\n",
       "  </thead>\n",
       "  <tbody>\n",
       "    <tr>\n",
       "      <th>mensaje_alarma</th>\n",
       "      <td>397652.812500</td>\n",
       "    </tr>\n",
       "    <tr>\n",
       "      <th>cuantia</th>\n",
       "      <td>1797.943395</td>\n",
       "    </tr>\n",
       "    <tr>\n",
       "      <th>balance_prev_destino</th>\n",
       "      <td>948.665491</td>\n",
       "    </tr>\n",
       "    <tr>\n",
       "      <th>balance_post_destino</th>\n",
       "      <td>862.148173</td>\n",
       "    </tr>\n",
       "    <tr>\n",
       "      <th>es_fraude</th>\n",
       "      <td>770.068289</td>\n",
       "    </tr>\n",
       "    <tr>\n",
       "      <th>balance_prev_origen</th>\n",
       "      <td>32.964589</td>\n",
       "    </tr>\n",
       "    <tr>\n",
       "      <th>balance_post_origen</th>\n",
       "      <td>32.066700</td>\n",
       "    </tr>\n",
       "    <tr>\n",
       "      <th>dia</th>\n",
       "      <td>0.267323</td>\n",
       "    </tr>\n",
       "    <tr>\n",
       "      <th>t_id</th>\n",
       "      <td>-1.199999</td>\n",
       "    </tr>\n",
       "  </tbody>\n",
       "</table>\n",
       "</div>"
      ],
      "text/plain": [
       "                          kurtoisis\n",
       "mensaje_alarma        397652.812500\n",
       "cuantia                 1797.943395\n",
       "balance_prev_destino     948.665491\n",
       "balance_post_destino     862.148173\n",
       "es_fraude                770.068289\n",
       "balance_prev_origen       32.964589\n",
       "balance_post_origen       32.066700\n",
       "dia                        0.267323\n",
       "t_id                      -1.199999"
      ]
     },
     "execution_count": 37,
     "metadata": {},
     "output_type": "execute_result"
    }
   ],
   "source": [
    "from scipy.stats import kurtosis\n",
    "\n",
    "kurtosis = df.kurtosis().sort_values(ascending=False)\n",
    "kurtosis_df= pd.DataFrame({'kurtoisis': kurtosis})\n",
    "kurtosis_df"
   ]
  }
 ],
 "metadata": {
  "kernelspec": {
   "display_name": "Python 3 (ipykernel)",
   "language": "python",
   "name": "python3"
  },
  "language_info": {
   "codemirror_mode": {
    "name": "ipython",
    "version": 3
   },
   "file_extension": ".py",
   "mimetype": "text/x-python",
   "name": "python",
   "nbconvert_exporter": "python",
   "pygments_lexer": "ipython3",
   "version": "3.9.12"
  }
 },
 "nbformat": 4,
 "nbformat_minor": 5
}
